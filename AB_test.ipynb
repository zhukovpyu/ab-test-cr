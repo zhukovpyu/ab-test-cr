{
 "cells": [
  {
   "cell_type": "markdown",
   "id": "b4a2aa0e",
   "metadata": {},
   "source": [
    "# A/B тестирование конверсии "
   ]
  },
  {
   "cell_type": "markdown",
   "id": "37b28ef4",
   "metadata": {},
   "source": [
    "__Обзор на кейс:__\n",
    "\n",
    "Компания X занимается продажей товаров. Было решено поменять дизайн главной страницы. \n",
    "\n",
    "__Цель тестирования:__ узнать, поменяется ли конверсия на новой странице.\n",
    "\n",
    "Датасет состоит из следующей информации:\n",
    "\n",
    "1. __user_id__: уникальный идетнификатор пользователя.\n",
    "2. __timestamp__: дата записи данных о пользователе в датасет.\n",
    "3. __group__: группа пользователя в эксперименте.\n",
    "4. __landing_page__: страница, которую видел пользователь во время эксперимента.\n",
    "5. __converted__: совершил ли пользователь целевое действие."
   ]
  },
  {
   "cell_type": "markdown",
   "id": "145c078b",
   "metadata": {},
   "source": [
    "## Чтение, проверка и трансформация данных"
   ]
  },
  {
   "cell_type": "code",
   "execution_count": 1,
   "id": "58deda90",
   "metadata": {},
   "outputs": [],
   "source": [
    "#Импорт библиотек\n",
    "import pandas as pd\n",
    "import numpy as np\n",
    "from scipy import stats\n",
    "import matplotlib.pyplot as plt"
   ]
  },
  {
   "cell_type": "code",
   "execution_count": 5,
   "id": "7181ceb6",
   "metadata": {},
   "outputs": [],
   "source": [
    "ab_data = pd.read_csv(r'data\\ab_data.csv')"
   ]
  },
  {
   "cell_type": "code",
   "execution_count": 6,
   "id": "5df55ebb",
   "metadata": {},
   "outputs": [
    {
     "data": {
      "text/html": [
       "<div>\n",
       "<style scoped>\n",
       "    .dataframe tbody tr th:only-of-type {\n",
       "        vertical-align: middle;\n",
       "    }\n",
       "\n",
       "    .dataframe tbody tr th {\n",
       "        vertical-align: top;\n",
       "    }\n",
       "\n",
       "    .dataframe thead th {\n",
       "        text-align: right;\n",
       "    }\n",
       "</style>\n",
       "<table border=\"1\" class=\"dataframe\">\n",
       "  <thead>\n",
       "    <tr style=\"text-align: right;\">\n",
       "      <th></th>\n",
       "      <th>user_id</th>\n",
       "      <th>timestamp</th>\n",
       "      <th>group</th>\n",
       "      <th>landing_page</th>\n",
       "      <th>converted</th>\n",
       "    </tr>\n",
       "  </thead>\n",
       "  <tbody>\n",
       "    <tr>\n",
       "      <th>0</th>\n",
       "      <td>851104</td>\n",
       "      <td>2017-01-21 22:11:48.556739</td>\n",
       "      <td>control</td>\n",
       "      <td>old_page</td>\n",
       "      <td>0</td>\n",
       "    </tr>\n",
       "    <tr>\n",
       "      <th>1</th>\n",
       "      <td>804228</td>\n",
       "      <td>2017-01-12 08:01:45.159739</td>\n",
       "      <td>control</td>\n",
       "      <td>old_page</td>\n",
       "      <td>0</td>\n",
       "    </tr>\n",
       "    <tr>\n",
       "      <th>2</th>\n",
       "      <td>661590</td>\n",
       "      <td>2017-01-11 16:55:06.154213</td>\n",
       "      <td>treatment</td>\n",
       "      <td>new_page</td>\n",
       "      <td>0</td>\n",
       "    </tr>\n",
       "    <tr>\n",
       "      <th>3</th>\n",
       "      <td>853541</td>\n",
       "      <td>2017-01-08 18:28:03.143765</td>\n",
       "      <td>treatment</td>\n",
       "      <td>new_page</td>\n",
       "      <td>0</td>\n",
       "    </tr>\n",
       "    <tr>\n",
       "      <th>4</th>\n",
       "      <td>864975</td>\n",
       "      <td>2017-01-21 01:52:26.210827</td>\n",
       "      <td>control</td>\n",
       "      <td>old_page</td>\n",
       "      <td>1</td>\n",
       "    </tr>\n",
       "  </tbody>\n",
       "</table>\n",
       "</div>"
      ],
      "text/plain": [
       "   user_id                   timestamp      group landing_page  converted\n",
       "0   851104  2017-01-21 22:11:48.556739    control     old_page          0\n",
       "1   804228  2017-01-12 08:01:45.159739    control     old_page          0\n",
       "2   661590  2017-01-11 16:55:06.154213  treatment     new_page          0\n",
       "3   853541  2017-01-08 18:28:03.143765  treatment     new_page          0\n",
       "4   864975  2017-01-21 01:52:26.210827    control     old_page          1"
      ]
     },
     "execution_count": 6,
     "metadata": {},
     "output_type": "execute_result"
    }
   ],
   "source": [
    "ab_data.head(5)"
   ]
  },
  {
   "cell_type": "code",
   "execution_count": 7,
   "id": "65241284",
   "metadata": {},
   "outputs": [
    {
     "data": {
      "text/plain": [
       "(294478, 5)"
      ]
     },
     "execution_count": 7,
     "metadata": {},
     "output_type": "execute_result"
    }
   ],
   "source": [
    "ab_data.shape "
   ]
  },
  {
   "cell_type": "code",
   "execution_count": 8,
   "id": "9c4e9f36",
   "metadata": {
    "scrolled": false
   },
   "outputs": [
    {
     "name": "stdout",
     "output_type": "stream",
     "text": [
      "<class 'pandas.core.frame.DataFrame'>\n",
      "RangeIndex: 294478 entries, 0 to 294477\n",
      "Data columns (total 5 columns):\n",
      " #   Column        Non-Null Count   Dtype \n",
      "---  ------        --------------   ----- \n",
      " 0   user_id       294478 non-null  int64 \n",
      " 1   timestamp     294478 non-null  object\n",
      " 2   group         294478 non-null  object\n",
      " 3   landing_page  294478 non-null  object\n",
      " 4   converted     294478 non-null  int64 \n",
      "dtypes: int64(2), object(3)\n",
      "memory usage: 11.2+ MB\n"
     ]
    }
   ],
   "source": [
    "ab_data.info()"
   ]
  },
  {
   "cell_type": "markdown",
   "id": "7ed5babb",
   "metadata": {},
   "source": [
    "Видно, что нулевые значение отстутсвуют."
   ]
  },
  {
   "cell_type": "code",
   "execution_count": 9,
   "id": "08851a52",
   "metadata": {},
   "outputs": [
    {
     "data": {
      "text/plain": [
       "3894"
      ]
     },
     "execution_count": 9,
     "metadata": {},
     "output_type": "execute_result"
    }
   ],
   "source": [
    "#Проверка на наличие повторных записей для одного и того же пользователя\n",
    "ab_data['user_id'].duplicated().sum()"
   ]
  },
  {
   "cell_type": "code",
   "execution_count": 10,
   "id": "b5fcfdc5",
   "metadata": {
    "scrolled": true
   },
   "outputs": [],
   "source": [
    "#Удаление дупликатов\n",
    "ab_data.drop_duplicates(['user_id'],inplace=True)"
   ]
  },
  {
   "cell_type": "markdown",
   "id": "c2caf226",
   "metadata": {},
   "source": [
    "Проверка на наличие ошибок в записях:\n",
    "1. Пользователи контрольной группы, увидевшие новую страницу\n",
    "2. Пользователи тестовой группы, увидевшие старую страницу"
   ]
  },
  {
   "cell_type": "code",
   "execution_count": 11,
   "id": "97d24aa4",
   "metadata": {
    "scrolled": true
   },
   "outputs": [
    {
     "data": {
      "text/html": [
       "<div>\n",
       "<style scoped>\n",
       "    .dataframe tbody tr th:only-of-type {\n",
       "        vertical-align: middle;\n",
       "    }\n",
       "\n",
       "    .dataframe tbody tr th {\n",
       "        vertical-align: top;\n",
       "    }\n",
       "\n",
       "    .dataframe thead th {\n",
       "        text-align: right;\n",
       "    }\n",
       "</style>\n",
       "<table border=\"1\" class=\"dataframe\">\n",
       "  <thead>\n",
       "    <tr style=\"text-align: right;\">\n",
       "      <th></th>\n",
       "      <th></th>\n",
       "      <th>user_id</th>\n",
       "      <th>timestamp</th>\n",
       "      <th>converted</th>\n",
       "    </tr>\n",
       "    <tr>\n",
       "      <th>group</th>\n",
       "      <th>landing_page</th>\n",
       "      <th></th>\n",
       "      <th></th>\n",
       "      <th></th>\n",
       "    </tr>\n",
       "  </thead>\n",
       "  <tbody>\n",
       "    <tr>\n",
       "      <th rowspan=\"2\" valign=\"top\">control</th>\n",
       "      <th>new_page</th>\n",
       "      <td>1006</td>\n",
       "      <td>1006</td>\n",
       "      <td>1006</td>\n",
       "    </tr>\n",
       "    <tr>\n",
       "      <th>old_page</th>\n",
       "      <td>144226</td>\n",
       "      <td>144226</td>\n",
       "      <td>144226</td>\n",
       "    </tr>\n",
       "    <tr>\n",
       "      <th rowspan=\"2\" valign=\"top\">treatment</th>\n",
       "      <th>new_page</th>\n",
       "      <td>144314</td>\n",
       "      <td>144314</td>\n",
       "      <td>144314</td>\n",
       "    </tr>\n",
       "    <tr>\n",
       "      <th>old_page</th>\n",
       "      <td>1038</td>\n",
       "      <td>1038</td>\n",
       "      <td>1038</td>\n",
       "    </tr>\n",
       "  </tbody>\n",
       "</table>\n",
       "</div>"
      ],
      "text/plain": [
       "                        user_id  timestamp  converted\n",
       "group     landing_page                               \n",
       "control   new_page         1006       1006       1006\n",
       "          old_page       144226     144226     144226\n",
       "treatment new_page       144314     144314     144314\n",
       "          old_page         1038       1038       1038"
      ]
     },
     "execution_count": 11,
     "metadata": {},
     "output_type": "execute_result"
    }
   ],
   "source": [
    "ab_data.groupby(['group','landing_page']).count()"
   ]
  },
  {
   "cell_type": "code",
   "execution_count": 12,
   "id": "09ab0521",
   "metadata": {},
   "outputs": [],
   "source": [
    "#Удаление некоректных данных\n",
    "ab_cleaned = ab_data.loc[( ab_data['group'] == 'control') & ( ab_data['landing_page'] == 'old_page') | ( ab_data['group'] == 'treatment') & ( ab_data['landing_page'] == 'new_page')]"
   ]
  },
  {
   "cell_type": "code",
   "execution_count": 13,
   "id": "a6093c4b",
   "metadata": {
    "scrolled": false
   },
   "outputs": [
    {
     "data": {
      "text/plain": [
       "(288540, 5)"
      ]
     },
     "execution_count": 13,
     "metadata": {},
     "output_type": "execute_result"
    }
   ],
   "source": [
    "ab_cleaned.shape"
   ]
  },
  {
   "cell_type": "markdown",
   "id": "451e6744",
   "metadata": {},
   "source": [
    "## Разведочный анализ данных (EDA)"
   ]
  },
  {
   "cell_type": "code",
   "execution_count": 14,
   "id": "6347b7b5",
   "metadata": {
    "scrolled": false
   },
   "outputs": [
    {
     "data": {
      "text/html": [
       "<div>\n",
       "<style scoped>\n",
       "    .dataframe tbody tr th:only-of-type {\n",
       "        vertical-align: middle;\n",
       "    }\n",
       "\n",
       "    .dataframe tbody tr th {\n",
       "        vertical-align: top;\n",
       "    }\n",
       "\n",
       "    .dataframe thead th {\n",
       "        text-align: right;\n",
       "    }\n",
       "</style>\n",
       "<table border=\"1\" class=\"dataframe\">\n",
       "  <thead>\n",
       "    <tr style=\"text-align: right;\">\n",
       "      <th>converted</th>\n",
       "      <th>0</th>\n",
       "      <th>1</th>\n",
       "      <th>All</th>\n",
       "    </tr>\n",
       "    <tr>\n",
       "      <th>group</th>\n",
       "      <th></th>\n",
       "      <th></th>\n",
       "      <th></th>\n",
       "    </tr>\n",
       "  </thead>\n",
       "  <tbody>\n",
       "    <tr>\n",
       "      <th>control</th>\n",
       "      <td>126877</td>\n",
       "      <td>17349</td>\n",
       "      <td>144226</td>\n",
       "    </tr>\n",
       "    <tr>\n",
       "      <th>treatment</th>\n",
       "      <td>127180</td>\n",
       "      <td>17134</td>\n",
       "      <td>144314</td>\n",
       "    </tr>\n",
       "    <tr>\n",
       "      <th>All</th>\n",
       "      <td>254057</td>\n",
       "      <td>34483</td>\n",
       "      <td>288540</td>\n",
       "    </tr>\n",
       "  </tbody>\n",
       "</table>\n",
       "</div>"
      ],
      "text/plain": [
       "converted       0      1     All\n",
       "group                           \n",
       "control    126877  17349  144226\n",
       "treatment  127180  17134  144314\n",
       "All        254057  34483  288540"
      ]
     },
     "execution_count": 14,
     "metadata": {},
     "output_type": "execute_result"
    }
   ],
   "source": [
    "#Таблица сопряженности \n",
    "pd.crosstab(index=ab_cleaned['group'], columns=ab_cleaned['converted'], margins=True)"
   ]
  },
  {
   "cell_type": "code",
   "execution_count": 15,
   "id": "f2371759",
   "metadata": {},
   "outputs": [],
   "source": [
    "#Разделение данных по группам\n",
    "control = ab_cleaned[ab_cleaned['group'] == 'control']\n",
    "treatment = ab_cleaned[ab_cleaned['group'] == 'treatment']"
   ]
  },
  {
   "cell_type": "code",
   "execution_count": 20,
   "id": "bda5db6c",
   "metadata": {
    "scrolled": true
   },
   "outputs": [
    {
     "name": "stdout",
     "output_type": "stream",
     "text": [
      "Конверсия старой страницы:  0.12029037760181936 \n",
      "Конверсия новой страницы:  0.11872721981235362 \n",
      "Разница конверсий: 0.0015631577894657384\n"
     ]
    }
   ],
   "source": [
    "#Расчет показателей конверсии\n",
    "conv_rate_control = control.converted.sum()/control.converted.count()\n",
    "conv_rate_treatment = treatment.converted.sum()/treatment.converted.count()\n",
    "conv_diff = conv_rate_control-conv_rate_treatment\n",
    "print(\"Конверсия старой страницы: \",conv_rate_control,'\\nКонверсия новой страницы: ',conv_rate_treatment,'\\nРазница конверсий:',conv_diff)"
   ]
  },
  {
   "cell_type": "markdown",
   "id": "86544932",
   "metadata": {},
   "source": [
    "## AB test"
   ]
  },
  {
   "cell_type": "markdown",
   "id": "4fd26cc0",
   "metadata": {},
   "source": [
    "__Определение гипотез:__\n",
    "\n",
    "*__H0__* = Конверсия на новой и на старой странице не различается \n",
    "\n",
    "*__H1__* = Конверсия на новой и на старой странице различается\n",
    "\n",
    "Определим уровень статистической значимости: *α* = *__0,05__*\n",
    "\n",
    "__Переменные:__\n",
    "\n",
    "Для анализа присутствуют только номинативные переменные, такие как группа (контрольная и тестовая) и конверсия(действие \n",
    "произошло - 1,не произошло - 0). \n",
    "\n",
    "В связи с этим для анализа будут использован непараметрический метод - Хи-квадрат Пирсона."
   ]
  },
  {
   "cell_type": "code",
   "execution_count": 21,
   "id": "7a23039c",
   "metadata": {},
   "outputs": [
    {
     "name": "stdout",
     "output_type": "stream",
     "text": [
      "17349 126877 17134 127180\n"
     ]
    }
   ],
   "source": [
    "#Подготовка данных \n",
    "c_conv = control.converted.sum()\n",
    "c_noconv = control.converted.size - control.converted.sum()\n",
    "t_conv = treatment.converted.sum()\n",
    "t_noconv = treatment.converted.size - treatment.converted.sum()\n",
    "print(c_conv,c_noconv,t_conv,t_noconv)"
   ]
  },
  {
   "cell_type": "code",
   "execution_count": 29,
   "id": "c04bc24a",
   "metadata": {},
   "outputs": [
    {
     "data": {
      "text/plain": [
       "array([[ 17349, 126877],\n",
       "       [ 17134, 127180]], dtype=int64)"
      ]
     },
     "execution_count": 29,
     "metadata": {},
     "output_type": "execute_result"
    }
   ],
   "source": [
    "obs = np.array([[c_conv,c_noconv],[t_conv,t_noconv]])\n",
    "obs"
   ]
  },
  {
   "cell_type": "markdown",
   "id": "69ccb092",
   "metadata": {},
   "source": [
    "### Метод Хи-квадрат Пирсона"
   ]
  },
  {
   "attachments": {
    "image.png": {
     "image/png": "[encoded data removed]"
    }
   },
   "cell_type": "markdown",
   "id": "8d405085",
   "metadata": {},
   "source": [
    "Это непараметрический метод, который позволяет оценить значимость различий между фактическим количеством исходов или качественных характеристик выборки, попадающих в каждую категорию, и теоретическим количеством, которое можно ожидать в изучаемых группах при справедливости нулевой гипотезы.\n",
    "\n",
    "χ2 рассчитывается по следующей формуле:\n",
    "\n",
    "![image.png](attachment:image.png)\n",
    "\n",
    "Где *odserved* - полученные значения, а *expected* - ожидаемые. \n",
    "\n",
    "Так же, требуется знать число степеней свободы, которое находится по формуле: \n",
    "\n",
    "__dof__ = (число строк смежной таблицы - 1 )*(число столбцов смежной таблицы - 1)\n",
    "\n",
    "Далее сравнивается χ2 с критическим при при числе степеней свободы dof. Если полученное значение χ2 больше критического, при соответсвующем уровне значимости, делаем вывод о статистической значимости изменений и принимаем альтернативную гипотезу."
   ]
  },
  {
   "cell_type": "code",
   "execution_count": 37,
   "id": "ce416cc0",
   "metadata": {
    "scrolled": true
   },
   "outputs": [
    {
     "data": {
      "text/plain": [
       "0.1955836428788163"
      ]
     },
     "execution_count": 37,
     "metadata": {},
     "output_type": "execute_result"
    }
   ],
   "source": [
    "#Применяем метод Хи-квадрат Пирсона \n",
    "chi2, p_value, dof, ex = stats.chi2_contingency(obs, correction=False)\n",
    "p_value"
   ]
  },
  {
   "cell_type": "markdown",
   "id": "840ca7dc",
   "metadata": {},
   "source": [
    "# Вывод"
   ]
  },
  {
   "cell_type": "markdown",
   "id": "f0a6a1ee",
   "metadata": {},
   "source": [
    "Рассчитанное p-value ~ 0.195, при α = 0.05, означает что статистически значимих различий не найдено. Оставляем нулевую гипотезу."
   ]
  }
 ],
 "metadata": {
  "celltoolbar": "Отсутствует",
  "kernelspec": {
   "display_name": "Python 3",
   "language": "python",
   "name": "python3"
  },
  "language_info": {
   "codemirror_mode": {
    "name": "ipython",
    "version": 3
   },
   "file_extension": ".py",
   "mimetype": "text/x-python",
   "name": "python",
   "nbconvert_exporter": "python",
   "pygments_lexer": "ipython3",
   "version": "3.9.5"
  }
 },
 "nbformat": 4,
 "nbformat_minor": 5
}
